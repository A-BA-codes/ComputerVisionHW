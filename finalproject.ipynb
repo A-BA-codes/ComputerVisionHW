{
 "cells": [
  {
   "cell_type": "markdown",
   "id": "ff687c68",
   "metadata": {},
   "source": [
    "## COMPUTER VISION \n",
    "### FINAL PROJECT: HOW’S THE WEATHER TODAY\n",
    "#### THE DATASETS: ACDC"
   ]
  },
  {
   "cell_type": "markdown",
   "id": "665bfefb",
   "metadata": {},
   "source": [
    "**Student name**: \n",
    "\n",
    "**ID Number**: "
   ]
  },
  {
   "cell_type": "markdown",
   "id": "db672af7",
   "metadata": {},
   "source": [
    "Import required libraries, including OpenCV (cv2) for image processing, NumPy for numerical operations, Pandas for data manipulation, scikit-learn for machine learning tasks (RandomForestClassifier), and Mahotas for computer vision features"
   ]
  },
  {
   "cell_type": "code",
   "execution_count": 1,
   "id": "582e22cb",
   "metadata": {},
   "outputs": [],
   "source": [
    "# Import necessary libraries\n",
    "import os\n",
    "import cv2\n",
    "import numpy as np\n",
    "import pandas as pd\n",
    "from sklearn.ensemble import RandomForestClassifier\n",
    "import mahotas.features as mfs\n",
    "from sklearn.metrics import accuracy_score, classification_report"
   ]
  },
  {
   "cell_type": "markdown",
   "id": "8da6f8f7",
   "metadata": {},
   "source": [
    "This function iterates through each image file in the specified directory (data_dir). For each image, it loads the image, resizes it, extracts features using the extract_features function (which is defined later), gets the label from the filename using the get_label_from_filename function (also defined later), and appends the features, mapped label, and image name to their respective lists. Finally, it returns NumPy arrays for features and labels, along with a list of image names."
   ]
  },
  {
   "cell_type": "code",
   "execution_count": 2,
   "id": "9f6e3daf",
   "metadata": {},
   "outputs": [],
   "source": [
    "# Function to load and preprocess the data\n",
    "def load_and_preprocess_data(data_dir, img_size=(150, 150)):\n",
    "    # Initialize empty lists to store data\n",
    "    data = []                        # Features of images\n",
    "    labels = []                      # Corresponding labels (Clear, Fog, Night, Rain, Snow)\n",
    "    image_names = []                 # Names of processed images\n",
    "\n",
    "\n",
    "    # Mapping of filename labels to predefined weather classes\n",
    "    class_mapping = {'clear': 'Clear', 'fog': 'Fog', 'night': 'Night', 'rain': 'Rain', 'snow': 'Snow'}\n",
    "\n",
    "    # Loop through each file in the specified directory\n",
    "    for img_file in os.listdir(data_dir):\n",
    "        # Build the full path to the image file\n",
    "        img_path = os.path.join(data_dir, img_file)\n",
    "        # Read the image using OpenCV\n",
    "        img = cv2.imread(img_path)\n",
    "\n",
    "        # Check if the image was successfully loaded\n",
    "        if img is not None:\n",
    "            # Resize the image to the specified size (default is 150x150 pixels)\n",
    "            img = cv2.resize(img, img_size)\n",
    "            # Extract features from the image\n",
    "            features = extract_features(img)\n",
    "            # Get the label from the filename\n",
    "            label = get_label_from_filename(img_file)\n",
    "\n",
    "            # Check if the label is in the predefined mapping\n",
    "            if label in class_mapping:\n",
    "                # Append the extracted data to the respective lists\n",
    "                data.append(features)\n",
    "                labels.append(class_mapping[label])\n",
    "                image_names.append(img_file)\n",
    "                \n",
    "    # Convert lists to NumPy arrays and return them\n",
    "    return np.array(data), np.array(labels), image_names\n"
   ]
  },
  {
   "cell_type": "markdown",
   "id": "d97c8bea",
   "metadata": {},
   "source": [
    "this function computes features like color histograms, average color values, standard deviations, and image moments for each channel of an image. It also includes a placeholder for LBP features, which can be added later if needed. The final feature vector is obtained by concatenating all these individual feature arrays."
   ]
  },
  {
   "cell_type": "code",
   "execution_count": 3,
   "id": "5a7e818a",
   "metadata": {},
   "outputs": [],
   "source": [
    "# Function to extract features from an image\n",
    "def extract_features(img):\n",
    "    # Calculate histogram features for each channel (color intensity)\n",
    "    hist_features = cv2.calcHist([img], [0, 1, 2], None, [8, 8, 8], [0, 256, 0, 256, 0, 256]).flatten()\n",
    "    # Calculate average color features for each channel\n",
    "    avg_color_features = [np.mean(img[:,:,0]), np.mean(img[:,:,1]), np.mean(img[:,:,2])]\n",
    "    # Calculate standard deviation of color features for each channel\n",
    "    std_color_features = [np.std(img[:,:,0]), np.std(img[:,:,1]), np.std(img[:,:,2])]\n",
    "    # Calculate image moments features for each channel\n",
    "    moments_features = [cv2.moments(img[:,:,0])['m00'], cv2.moments(img[:,:,1])['m00'], cv2.moments(img[:,:,2])['m00']]\n",
    "     # LBP features (currently empty)\n",
    "    lbp_features = []\n",
    "\n",
    "    # Concatenate all the extracted features into a single array\n",
    "    return np.concatenate((hist_features, avg_color_features, std_color_features, moments_features, lbp_features))"
   ]
  },
  {
   "cell_type": "markdown",
   "id": "21112dba",
   "metadata": {},
   "source": [
    "this function takes a filename, e.g., \"clear_001.png\". It splits the filename using '_' as a delimiter and retrieves the first part, which represents the label e.g., \"clear\". The label is then converted to lowercase for consistency. The function returns this label extracted from the filename."
   ]
  },
  {
   "cell_type": "code",
   "execution_count": 4,
   "id": "98f78532",
   "metadata": {},
   "outputs": [],
   "source": [
    "# Function to get label from filename\n",
    "def get_label_from_filename(filename):\n",
    "    # Split the filename using '_' as a delimiter and take the first part\n",
    "    # Convert the result to lowercase to ensure consistency\n",
    "    return filename.split('_')[0].lower()"
   ]
  },
  {
   "cell_type": "markdown",
   "id": "69bc9600",
   "metadata": {},
   "source": [
    "this function takes numerical data, corresponding labels, and image names, organizes them into a DataFrame, and then saves this DataFrame to an Excel file. The column names for numerical features are generated dynamically as \"Feature_0\", \"Feature_1\", and so on. The Excel file is saved without including row indices.\n",
    "\n",
    "\n",
    "\n",
    "\n",
    "\n"
   ]
  },
  {
   "cell_type": "code",
   "execution_count": 5,
   "id": "1b85cd0f",
   "metadata": {},
   "outputs": [],
   "source": [
    "# Function to save data to Excel\n",
    "def save_to_excel(data, labels, image_names, file_name):\n",
    "    # Create a DataFrame using the provided data, with column names like \"Feature_0\", \"Feature_1\", ...\n",
    "    df = pd.DataFrame(data, columns=[f\"Feature_{i}\" for i in range(data.shape[1])])\n",
    "    # Add columns for labels and image names to the DataFrame\n",
    "    df['Label'] = labels\n",
    "    df['Image_Name'] = image_names\n",
    "    # Save the DataFrame to an Excel file with the specified name, without including row indices\n",
    "    df.to_excel(file_name, index=False)"
   ]
  },
  {
   "cell_type": "markdown",
   "id": "995aa2a7",
   "metadata": {},
   "source": [
    "this code first loads and preprocesses the training data from the specified directory using a function (load_and_preprocess_data). Then, it saves the extracted features, corresponding labels, and image names to an Excel file named 'train_data_features.xlsx' using another function (save_to_excel)."
   ]
  },
  {
   "cell_type": "code",
   "execution_count": 6,
   "id": "3cebe947",
   "metadata": {},
   "outputs": [],
   "source": [
    "# Load and preprocess the training data\n",
    "train_data_dir = r\"ACDC\\train\"\n",
    "# Call a function to load and preprocess the training data, getting numerical features, labels, and image names\n",
    "train_data, train_labels, train_image_names = load_and_preprocess_data(train_data_dir)\n",
    "# Save the training data to an Excel file\n",
    "# Call a function to save the training data (features, labels, and image names) to an Excel file\n",
    "save_to_excel(train_data, train_labels, train_image_names, 'train_data_features.xlsx')\n"
   ]
  },
  {
   "cell_type": "markdown",
   "id": "98c9d545",
   "metadata": {},
   "source": [
    "this code initializes a Random Forest classifier with 100 trees and then trains it using the training data (features and corresponding labels). The classifier will learn patterns in the data that can be used for making predictions on new, unseen data."
   ]
  },
  {
   "cell_type": "code",
   "execution_count": 7,
   "id": "23805afa",
   "metadata": {},
   "outputs": [
    {
     "data": {
      "text/html": [
       "<style>#sk-container-id-1 {color: black;}#sk-container-id-1 pre{padding: 0;}#sk-container-id-1 div.sk-toggleable {background-color: white;}#sk-container-id-1 label.sk-toggleable__label {cursor: pointer;display: block;width: 100%;margin-bottom: 0;padding: 0.3em;box-sizing: border-box;text-align: center;}#sk-container-id-1 label.sk-toggleable__label-arrow:before {content: \"▸\";float: left;margin-right: 0.25em;color: #696969;}#sk-container-id-1 label.sk-toggleable__label-arrow:hover:before {color: black;}#sk-container-id-1 div.sk-estimator:hover label.sk-toggleable__label-arrow:before {color: black;}#sk-container-id-1 div.sk-toggleable__content {max-height: 0;max-width: 0;overflow: hidden;text-align: left;background-color: #f0f8ff;}#sk-container-id-1 div.sk-toggleable__content pre {margin: 0.2em;color: black;border-radius: 0.25em;background-color: #f0f8ff;}#sk-container-id-1 input.sk-toggleable__control:checked~div.sk-toggleable__content {max-height: 200px;max-width: 100%;overflow: auto;}#sk-container-id-1 input.sk-toggleable__control:checked~label.sk-toggleable__label-arrow:before {content: \"▾\";}#sk-container-id-1 div.sk-estimator input.sk-toggleable__control:checked~label.sk-toggleable__label {background-color: #d4ebff;}#sk-container-id-1 div.sk-label input.sk-toggleable__control:checked~label.sk-toggleable__label {background-color: #d4ebff;}#sk-container-id-1 input.sk-hidden--visually {border: 0;clip: rect(1px 1px 1px 1px);clip: rect(1px, 1px, 1px, 1px);height: 1px;margin: -1px;overflow: hidden;padding: 0;position: absolute;width: 1px;}#sk-container-id-1 div.sk-estimator {font-family: monospace;background-color: #f0f8ff;border: 1px dotted black;border-radius: 0.25em;box-sizing: border-box;margin-bottom: 0.5em;}#sk-container-id-1 div.sk-estimator:hover {background-color: #d4ebff;}#sk-container-id-1 div.sk-parallel-item::after {content: \"\";width: 100%;border-bottom: 1px solid gray;flex-grow: 1;}#sk-container-id-1 div.sk-label:hover label.sk-toggleable__label {background-color: #d4ebff;}#sk-container-id-1 div.sk-serial::before {content: \"\";position: absolute;border-left: 1px solid gray;box-sizing: border-box;top: 0;bottom: 0;left: 50%;z-index: 0;}#sk-container-id-1 div.sk-serial {display: flex;flex-direction: column;align-items: center;background-color: white;padding-right: 0.2em;padding-left: 0.2em;position: relative;}#sk-container-id-1 div.sk-item {position: relative;z-index: 1;}#sk-container-id-1 div.sk-parallel {display: flex;align-items: stretch;justify-content: center;background-color: white;position: relative;}#sk-container-id-1 div.sk-item::before, #sk-container-id-1 div.sk-parallel-item::before {content: \"\";position: absolute;border-left: 1px solid gray;box-sizing: border-box;top: 0;bottom: 0;left: 50%;z-index: -1;}#sk-container-id-1 div.sk-parallel-item {display: flex;flex-direction: column;z-index: 1;position: relative;background-color: white;}#sk-container-id-1 div.sk-parallel-item:first-child::after {align-self: flex-end;width: 50%;}#sk-container-id-1 div.sk-parallel-item:last-child::after {align-self: flex-start;width: 50%;}#sk-container-id-1 div.sk-parallel-item:only-child::after {width: 0;}#sk-container-id-1 div.sk-dashed-wrapped {border: 1px dashed gray;margin: 0 0.4em 0.5em 0.4em;box-sizing: border-box;padding-bottom: 0.4em;background-color: white;}#sk-container-id-1 div.sk-label label {font-family: monospace;font-weight: bold;display: inline-block;line-height: 1.2em;}#sk-container-id-1 div.sk-label-container {text-align: center;}#sk-container-id-1 div.sk-container {/* jupyter's `normalize.less` sets `[hidden] { display: none; }` but bootstrap.min.css set `[hidden] { display: none !important; }` so we also need the `!important` here to be able to override the default hidden behavior on the sphinx rendered scikit-learn.org. See: https://github.com/scikit-learn/scikit-learn/issues/21755 */display: inline-block !important;position: relative;}#sk-container-id-1 div.sk-text-repr-fallback {display: none;}</style><div id=\"sk-container-id-1\" class=\"sk-top-container\"><div class=\"sk-text-repr-fallback\"><pre>RandomForestClassifier(random_state=42)</pre><b>In a Jupyter environment, please rerun this cell to show the HTML representation or trust the notebook. <br />On GitHub, the HTML representation is unable to render, please try loading this page with nbviewer.org.</b></div><div class=\"sk-container\" hidden><div class=\"sk-item\"><div class=\"sk-estimator sk-toggleable\"><input class=\"sk-toggleable__control sk-hidden--visually\" id=\"sk-estimator-id-1\" type=\"checkbox\" checked><label for=\"sk-estimator-id-1\" class=\"sk-toggleable__label sk-toggleable__label-arrow\">RandomForestClassifier</label><div class=\"sk-toggleable__content\"><pre>RandomForestClassifier(random_state=42)</pre></div></div></div></div></div>"
      ],
      "text/plain": [
       "RandomForestClassifier(random_state=42)"
      ]
     },
     "execution_count": 7,
     "metadata": {},
     "output_type": "execute_result"
    }
   ],
   "source": [
    "# Train the Random Forest classifier\n",
    "# Create a Random Forest classifier with 100 trees and a fixed random seed for reproducibility\n",
    "clf = RandomForestClassifier(n_estimators=100, random_state=42)\n",
    "# Fit (train) the classifier using the training data (features and labels)\n",
    "clf.fit(train_data, train_labels)\n"
   ]
  },
  {
   "cell_type": "markdown",
   "id": "113bc739",
   "metadata": {},
   "source": [
    "this code loads and preprocesses the test data, including extracting features, obtaining labels, and saving this information into an Excel file for further analysis or evaluation.\n",
    "\n",
    "\n",
    "\n",
    "\n",
    "\n"
   ]
  },
  {
   "cell_type": "code",
   "execution_count": 8,
   "id": "ce57454f",
   "metadata": {},
   "outputs": [],
   "source": [
    "# Load and preprocess the test data\n",
    "# Specify the directory containing the test data\n",
    "test_data_dir = r\"ACDC\\test\"\n",
    "# Call the function to load and preprocess the test data, and retrieve features, labels, and image names\n",
    "test_data, test_labels, test_image_names = load_and_preprocess_data(test_data_dir)\n",
    "# Save the test data, labels, and image names to an Excel file\n",
    "# The function 'save_to_excel' creates a DataFrame and saves it to an Excel file\n",
    "save_to_excel(test_data, test_labels, test_image_names, 'test_data_features.xlsx')\n"
   ]
  },
  {
   "cell_type": "markdown",
   "id": "5e984eaa",
   "metadata": {},
   "source": [
    " the machine learning model (Random Forest classifier) is applied to the test dataset (test_data), and predictions are made for the corresponding classes. The resulting predicted labels are stored in the variable predicted_labels."
   ]
  },
  {
   "cell_type": "code",
   "execution_count": 9,
   "id": "8926ab9c",
   "metadata": {},
   "outputs": [],
   "source": [
    "# Predict classes for the test set\n",
    "# Uses a trained classifier 'clf' to predict labels for the test data\n",
    "predicted_labels = clf.predict(test_data)\n"
   ]
  },
  {
   "cell_type": "markdown",
   "id": "997151c2",
   "metadata": {},
   "source": [
    "This code calculates the accuracy of the machine learning model by comparing its predicted labels (predicted_labels) with the actual labels in the test set (test_labels). Additionally, it generates a classification report that contains detailed performance metrics. Finally, the accuracy and classification report are printed for evaluation."
   ]
  },
  {
   "cell_type": "code",
   "execution_count": 10,
   "id": "655c96ca",
   "metadata": {},
   "outputs": [
    {
     "name": "stdout",
     "output_type": "stream",
     "text": [
      "Accuracy: 0.928\n",
      "Classification Report:\n",
      "               precision    recall  f1-score   support\n",
      "\n",
      "       Clear       1.00      1.00      1.00       100\n",
      "         Fog       0.89      0.89      0.89       100\n",
      "       Night       0.99      0.99      0.99       100\n",
      "        Rain       0.91      0.93      0.92       100\n",
      "        Snow       0.85      0.83      0.84       100\n",
      "\n",
      "    accuracy                           0.93       500\n",
      "   macro avg       0.93      0.93      0.93       500\n",
      "weighted avg       0.93      0.93      0.93       500\n",
      "\n"
     ]
    }
   ],
   "source": [
    "# Evaluate the classifier\n",
    "# Compares the predicted labels with the actual labels in the test set\n",
    "accuracy = accuracy_score(test_labels, predicted_labels)\n",
    "# Generate a classification report\n",
    "# Provides detailed performance metrics like precision, recall, and F1-score\n",
    "classification_report_str = classification_report(test_labels, predicted_labels)\n",
    "# Print the accuracy and classification report\n",
    "print(f\"Accuracy: {accuracy}\")\n",
    "print(\"Classification Report:\\n\", classification_report_str)\n"
   ]
  },
  {
   "cell_type": "markdown",
   "id": "5f0689fd",
   "metadata": {},
   "source": [
    "\n",
    "This code loads a random photo, resizes it, extracts features, and then uses a trained classifier (`clf`) to predict the weather condition based on those features. Finally, it prints the predicted weather condition."
   ]
  },
  {
   "cell_type": "code",
   "execution_count": 11,
   "id": "96784767",
   "metadata": {},
   "outputs": [
    {
     "name": "stdout",
     "output_type": "stream",
     "text": [
      "Predicted Weather Condition: Clear\n"
     ]
    }
   ],
   "source": [
    "# Predict the weather condition for a random photo\n",
    "# Specify the file path for the random photo\n",
    "random_photo_path = \"ACDC\\\\test\\\\clear_61.png\"\n",
    "# Read the random photo using OpenCV\n",
    "random_photo = cv2.imread(random_photo_path)\n",
    "# Resize the random photo to a specified size (150x150 pixels)\n",
    "random_photo = cv2.resize(random_photo, (150, 150))\n",
    "# Extract features from the resized random photo\n",
    "random_photo_features = extract_features(random_photo)\n",
    "# Use the trained classifier (clf) to predict the weather condition based on the features\n",
    "predicted_condition = clf.predict([random_photo_features])[0]\n",
    "# Print the predicted weather condition\n",
    "print(f\"Predicted Weather Condition: {predicted_condition}\")"
   ]
  }
 ],
 "metadata": {
  "kernelspec": {
   "display_name": "Python 3 (ipykernel)",
   "language": "python",
   "name": "python3"
  },
  "language_info": {
   "codemirror_mode": {
    "name": "ipython",
    "version": 3
   },
   "file_extension": ".py",
   "mimetype": "text/x-python",
   "name": "python",
   "nbconvert_exporter": "python",
   "pygments_lexer": "ipython3",
   "version": "3.12.4"
  }
 },
 "nbformat": 4,
 "nbformat_minor": 5
}
